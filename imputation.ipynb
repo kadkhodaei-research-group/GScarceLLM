{
 "cells": [
  {
   "cell_type": "code",
   "execution_count": 1,
   "metadata": {},
   "outputs": [],
   "source": [
    "import warnings\n",
    "warnings.filterwarnings(\"ignore\")"
   ]
  },
  {
   "cell_type": "markdown",
   "metadata": {},
   "source": [
    "Imputation"
   ]
  },
  {
   "cell_type": "code",
   "execution_count": null,
   "metadata": {},
   "outputs": [],
   "source": [
    "import openai\n",
    "openai.api_key = \" \""
   ]
  },
  {
   "cell_type": "markdown",
   "metadata": {},
   "source": [
    "Setup"
   ]
  },
  {
   "cell_type": "code",
   "execution_count": 2,
   "metadata": {},
   "outputs": [],
   "source": [
    "import pandas as pd\n",
    "from utils import load_graphene_data\n",
    "from featurization import preprocess_data\n",
    "from imputation import apply_gist_formalism, impute_all_attributes\n",
    "\n",
    "raw_data = load_graphene_data()\n",
    "\n",
    "preprocessed_data = preprocess_data(raw_data)\n",
    "\n",
    "attributes_to_impute = ['Pressure (mbar)', 'C2H4', 'Growth Time (min)', 'H2', 'CH4', 'Ar', 'C2H2']"
   ]
  },
  {
   "cell_type": "markdown",
   "metadata": {},
   "source": [
    "Example 1: Imputation with guide prompt and ground truth analysis"
   ]
  },
  {
   "cell_type": "code",
   "execution_count": null,
   "metadata": {},
   "outputs": [],
   "source": [
    "guide_with_analysis, predictions_dict = impute_all_attributes(preprocessed_data, attributes_to_impute, temperature=0.8, perform_analysis=True, prompt_type=\"guide\")\n",
    "guide_with_analysis.to_csv(\"Data/guide_with_analysis.csv\", index=False)"
   ]
  },
  {
   "cell_type": "markdown",
   "metadata": {},
   "source": [
    "Example 2: Imputation with map prompt but without ground truth analysis"
   ]
  },
  {
   "cell_type": "code",
   "execution_count": null,
   "metadata": {},
   "outputs": [],
   "source": [
    "guide_without_analysis, predictions_dict = impute_all_attributes(preprocessed_data, attributes_to_impute, temperature=0.8, perform_analysis=False, prompt_type=\"guide\")\n",
    "guide_without_analysis.to_csv(\"Data/guide_without_analysis.csv\", index=False)"
   ]
  },
  {
   "cell_type": "markdown",
   "metadata": {},
   "source": [
    "Example 3: Imputation with gist formalism"
   ]
  },
  {
   "cell_type": "code",
   "execution_count": null,
   "metadata": {},
   "outputs": [],
   "source": [
    "preprocessed_data = apply_gist_formalism(preprocessed_data, attributes_to_impute)\n",
    "\n",
    "gist_without_analysis, predictions_dict = impute_all_attributes(preprocessed_data, attributes_to_impute, temperature=0.8, perform_analysis=False, claim_formalism=True, prompt_type=\"gist\")\n",
    "gist_without_analysis.to_csv(\"Data/gist_without_analysis.csv\", index=False)"
   ]
  }
 ],
 "metadata": {
  "kernelspec": {
   "display_name": "base",
   "language": "python",
   "name": "python3"
  },
  "language_info": {
   "codemirror_mode": {
    "name": "ipython",
    "version": 3
   },
   "file_extension": ".py",
   "mimetype": "text/x-python",
   "name": "python",
   "nbconvert_exporter": "python",
   "pygments_lexer": "ipython3",
   "version": "3.12.4"
  }
 },
 "nbformat": 4,
 "nbformat_minor": 2
}
