{
 "cells": [
  {
   "cell_type": "markdown",
   "metadata": {},
   "source": [
    "Example: Using text-embedding-3-small to featurize substrate, Note: The dimensions are defined in the featurization  "
   ]
  },
  {
   "cell_type": "markdown",
   "metadata": {},
   "source": [
    "Featurization"
   ]
  },
  {
   "cell_type": "code",
   "execution_count": null,
   "metadata": {},
   "outputs": [
    {
     "name": "stderr",
     "output_type": "stream",
     "text": [
      "/Users/devcmrl/Desktop/Fall 2024/GScarceLLM/.venv/lib/python3.9/site-packages/urllib3/__init__.py:35: NotOpenSSLWarning: urllib3 v2 only supports OpenSSL 1.1.1+, currently the 'ssl' module is compiled with 'LibreSSL 2.8.3'. See: https://github.com/urllib3/urllib3/issues/3020\n",
      "  warnings.warn(\n"
     ]
    }
   ],
   "source": [
    "import openai  # type: ignore\n",
    "import pandas as pd # type: ignore\n",
    "from discretization import apply_binning\n",
    "openai.api_key = \" \""
   ]
  },
  {
   "cell_type": "code",
   "execution_count": null,
   "metadata": {},
   "outputs": [
    {
     "name": "stderr",
     "output_type": "stream",
     "text": [
      "/Users/devcmrl/Desktop/Fall 2024/GScarceLLM/featurization.py:92: FutureWarning: A value is trying to be set on a copy of a DataFrame or Series through chained assignment using an inplace method.\n",
      "The behavior will change in pandas 3.0. This inplace method will never work because the intermediate object on which we are setting values always behaves as a copy.\n",
      "\n",
      "For example, when doing 'df[col].method(value, inplace=True)', try using 'df.method({col: value}, inplace=True)' or df[col] = df[col].method(value) instead, to perform the operation inplace on the original object.\n",
      "\n",
      "\n",
      "  data[column].fillna(most_frequent, inplace=True)\n"
     ]
    },
    {
     "name": "stdout",
     "output_type": "stream",
     "text": [
      "Processing complete. Data saved to 'Data/processed_dataset_with_embedding.csv'.\n"
     ]
    }
   ],
   "source": [
    "from featurization import process_dataset\n",
    "# Process the dataset using the chosen featurization method. Change the dimensions of the embedding method in featurization.py\n",
    "\n",
    "data = process_dataset('Data/guide_imputed_data.csv', n_classes=3, featurization_method='embedding')"
   ]
  },
  {
   "cell_type": "markdown",
   "metadata": {},
   "source": [
    "Discretization"
   ]
  },
  {
   "cell_type": "code",
   "execution_count": null,
   "metadata": {},
   "outputs": [
    {
     "name": "stdout",
     "output_type": "stream",
     "text": [
      "Binning completed. Bin mapping:\n",
      "{'Pressure (mbar)': {0: (-inf, np.float64(2.1366878266704248e-09)), 1: (np.float64(2.1366878266704248e-09), np.float64(6.613491037033015e-07)), 2: (np.float64(6.613491037033015e-07), np.float64(8.881579196895473e-05)), 3: (np.float64(8.881579196895473e-05), np.float64(0.000509868172230199)), 4: (np.float64(0.000509868172230199), np.float64(0.0009868826600722969)), 5: (np.float64(0.0009868826600722969), np.float64(0.004177630878984928)), 6: (np.float64(0.004177630878984928), np.float64(0.005921336822211742)), 7: (np.float64(0.005921336822211742), np.float64(0.24673081934452057)), 8: (np.float64(0.24673081934452057), np.float64(0.6168270409107208)), 9: (np.float64(0.6168270409107208), inf)}, 'Temperature (°C)': {0: (-inf, np.float64(0.15000000596046448)), 1: (np.float64(0.15000000596046448), np.float64(0.3303571343421936)), 2: (np.float64(0.3303571343421936), np.float64(0.5028571486473083)), 3: (np.float64(0.5028571486473083), np.float64(0.5669642984867096)), 4: (np.float64(0.5669642984867096), np.float64(0.5892857015132904)), 5: (np.float64(0.5892857015132904), np.float64(0.6257142722606659)), 6: (np.float64(0.6257142722606659), np.float64(0.6303571462631226)), 7: (np.float64(0.6303571462631226), np.float64(0.6339285671710968)), 8: (np.float64(0.6339285671710968), np.float64(0.9464285671710968)), 9: (np.float64(0.9464285671710968), inf)}, 'Growth Time (min)': {0: (-inf, np.float64(0.0006943599437363446)), 1: (np.float64(0.0006943599437363446), np.float64(0.009724372997879982)), 2: (np.float64(0.009724372997879982), np.float64(0.015559330582618713)), 3: (np.float64(0.015559330582618713), np.float64(0.01847680937498808)), 4: (np.float64(0.01847680937498808), np.float64(0.03414783626794815)), 5: (np.float64(0.03414783626794815), np.float64(0.07224177569150925)), 6: (np.float64(0.07224177569150925), np.float64(0.09141377732157707)), 7: (np.float64(0.09141377732157707), np.float64(0.23645414412021637)), 8: (np.float64(0.23645414412021637), np.float64(0.6165599226951599)), 9: (np.float64(0.6165599226951599), inf)}, 'H2': {0: (-inf, np.float64(8.333346954714216e-07)), 1: (np.float64(8.333346954714216e-07), np.float64(4.666674522013636e-05)), 2: (np.float64(4.666674522013636e-05), np.float64(0.002498337533324957)), 3: (np.float64(0.002498337533324957), np.float64(0.011665019672363997)), 4: (np.float64(0.011665019672363997), np.float64(0.018331697210669518)), 5: (np.float64(0.018331697210669518), np.float64(0.034998390823602676)), 6: (np.float64(0.034998390823602676), np.float64(0.05999843403697014)), 7: (np.float64(0.05999843403697014), np.float64(0.4333323836326599)), 8: (np.float64(0.4333323836326599), np.float64(0.7833329737186432)), 9: (np.float64(0.7833329737186432), inf)}, 'CH4': {0: (-inf, np.float64(4.272727164789103e-05)), 1: (np.float64(4.272727164789103e-05), np.float64(0.000318181817419827)), 2: (np.float64(0.000318181817419827), np.float64(0.0005000000091968104)), 3: (np.float64(0.0005000000091968104), np.float64(0.0007272727380041033)), 4: (np.float64(0.0007272727380041033), np.float64(0.0010000000183936208)), 5: (np.float64(0.0010000000183936208), np.float64(0.008181818062439561)), 6: (np.float64(0.008181818062439561), np.float64(0.023181818425655365)), 7: (np.float64(0.023181818425655365), np.float64(0.02545454539358616)), 8: (np.float64(0.02545454539358616), np.float64(0.034545453265309334)), 9: (np.float64(0.034545453265309334), inf)}, 'C2H4': {0: (-inf, np.float64(0.0008216762798838317)), 1: (np.float64(0.0008216762798838317), np.float64(0.0025716966483742)), 2: (np.float64(0.0025716966483742), np.float64(0.0036550427321344614)), 3: (np.float64(0.0036550427321344614), np.float64(0.004571720026433468)), 4: (np.float64(0.004571720026433468), np.float64(0.009988449979573488)), 5: (np.float64(0.009988449979573488), np.float64(0.029988682828843594)), 6: (np.float64(0.029988682828843594), np.float64(0.05165560357272625)), 7: (np.float64(0.05165560357272625), np.float64(0.0958227813243866)), 8: (np.float64(0.0958227813243866), np.float64(0.14165665209293365)), 9: (np.float64(0.14165665209293365), inf)}, 'Ar': {0: (-inf, np.float64(7.500000549498509e-07)), 1: (np.float64(7.500000549498509e-07), np.float64(1.1150001228088513e-05)), 2: (np.float64(1.1150001228088513e-05), np.float64(0.0003499000449664891)), 3: (np.float64(0.0003499000449664891), np.float64(0.00189990020589903)), 4: (np.float64(0.00189990020589903), np.float64(0.002649900270625949)), 5: (np.float64(0.002649900270625949), np.float64(0.0032499004155397415)), 6: (np.float64(0.0032499004155397415), np.float64(0.004249900579452515)), 7: (np.float64(0.004249900579452515), np.float64(0.010799901094287634)), 8: (np.float64(0.010799901094287634), np.float64(0.027499902062118053)), 9: (np.float64(0.027499902062118053), inf)}, 'C2H2': {0: (-inf, np.float64(1.4166666460369015e-05)), 1: (np.float64(1.4166666460369015e-05), np.float64(5.833333307236899e-05)), 2: (np.float64(5.833333307236899e-05), np.float64(0.00011666666614473797)), 3: (np.float64(0.00011666666614473797), np.float64(0.0017000000225380063)), 4: (np.float64(0.0017000000225380063), np.float64(0.036666667088866234)), 5: (np.float64(0.036666667088866234), np.float64(0.0553333330899477)), 6: (np.float64(0.0553333330899477), np.float64(0.06366666778922081)), 7: (np.float64(0.06366666778922081), np.float64(0.30000001192092896)), 8: (np.float64(0.30000001192092896), np.float64(0.75)), 9: (np.float64(0.75), inf)}}\n"
     ]
    }
   ],
   "source": [
    "columns_to_discretize = [\n",
    "    \"Pressure (mbar)\", \"Temperature (°C)\", \"Growth Time (min)\",\n",
    "    \"H2\", \"CH4\", \"C2H4\", \"Ar\", \"C2H2\"\n",
    "]\n",
    "\n",
    "# Example dictionary for number of bins per column\n",
    "n_bins_dict = {\n",
    "    'Pressure (mbar)': 12,\n",
    "    'Temperature (°C)': 12,\n",
    "    'Growth Time (min)': 12,\n",
    "    'H2': 12,\n",
    "    'CH4': 12,\n",
    "    'C2H4': 12,\n",
    "    'Ar': 12,\n",
    "    'C2H2': 12\n",
    "}\n",
    "\n",
    "# Apply the desired binning method. Here we use supervised tree binning.\n",
    "result_df, bin_map = apply_binning(\n",
    "    data,\n",
    "    method='supervised_tree_binning',\n",
    "    columns=columns_to_discretize,\n",
    "    n_bins_dict=n_bins_dict\n",
    ")\n",
    "\n",
    "# (Optional) Save the result or inspect the bin_map\n",
    "result_df.to_csv(\"Data/binned_data.csv\", index=False)\n",
    "print(\"Binning completed. Bin mapping:\")\n",
    "print(bin_map)"
   ]
  },
  {
   "cell_type": "code",
   "execution_count": null,
   "metadata": {},
   "outputs": [],
   "source": [
    "result_df.drop(columns=['Substrate'], inplace=True)\n",
    "result_df.to_csv('Ternary_GUIDE_SE_4_DT.csv', index=False)"
   ]
  }
 ],
 "metadata": {
  "kernelspec": {
   "display_name": ".venv",
   "language": "python",
   "name": "python3"
  },
  "language_info": {
   "codemirror_mode": {
    "name": "ipython",
    "version": 3
   },
   "file_extension": ".py",
   "mimetype": "text/x-python",
   "name": "python",
   "nbconvert_exporter": "python",
   "pygments_lexer": "ipython3",
   "version": "3.9.6"
  }
 },
 "nbformat": 4,
 "nbformat_minor": 2
}
